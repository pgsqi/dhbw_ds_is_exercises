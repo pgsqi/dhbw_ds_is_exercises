{
 "cells": [
  {
   "cell_type": "markdown",
   "source": [
    "# Exercise Brute Force Attack"
   ],
   "metadata": {
    "collapsed": false
   },
   "id": "e2020b2a83b94257"
  },
  {
   "cell_type": "markdown",
   "source": [
    "# Vorbereitung: Brute-Force-Angriff verstehen\n",
    "\n",
    "## Ziel der Lerneinheit\n",
    "\n",
    "In dieser Übung lernst du:\n",
    "\n",
    "- was ein Brute-Force-Angriff ist,\n",
    "- wie man ihn in Python simulieren kann,\n",
    "- und warum Passwortlänge und -komplexität wichtig für die IT-Sicherheit sind."
   ],
   "metadata": {
    "collapsed": false
   },
   "id": "e2cde9f92bfa3a3d"
  },
  {
   "cell_type": "markdown",
   "source": [
    "---\n",
    "\n",
    "## 1. Was ist ein Brute-Force-Angriff?\n",
    "\n",
    "Ein **Brute-Force-Angriff** probiert systematisch alle möglichen Passwörter aus – solange, bis das richtige gefunden wurde.\n",
    "\n",
    "> Beispiel:  \n",
    "> Bei einem Passwort mit 3 Buchstaben aus a–z gibt es 26 × 26 × 26 = **17.576 Kombinationen**."
   ],
   "metadata": {
    "collapsed": false
   },
   "id": "87171011eceed770"
  },
  {
   "cell_type": "markdown",
   "source": [
    "---\n",
    "\n",
    "## 2. Wie viele Passwörter sind möglich?\n",
    "\n",
    "**Formel:**  \n",
    "`Anzahl Kombinationen = Zeichenzahl ^ Passwortlänge`\n",
    "\n",
    "| Zeichensatz            | Beispiel             | Zeichenzahl | Kombis bei Länge 4 |\n",
    "|------------------------|----------------------|-------------|---------------------|\n",
    "| Kleinbuchstaben        | a–z                  | 26          | 456.976             |\n",
    "| Klein- und Großbuchst. | a–z, A–Z             | 52          | 7.311.616           |\n",
    "| + Ziffern              | a–z, A–Z, 0–9        | 62          | 14.776.336          |\n",
    "| + Sonderzeichen        | a–z, A–Z, 0–9, Symbole| ~95         | 81.450.625          |\n",
    "\n",
    "Je **länger** und **komplexer** ein Passwort, desto **sicherer**!\n",
    "---"
   ],
   "metadata": {
    "collapsed": false
   },
   "id": "a1cfb403d4cf3dde"
  },
  {
   "cell_type": "markdown",
   "source": [
    "\n",
    "## 3. Wie funktioniert das in Python?\n",
    "\n",
    "Python kann alle möglichen Kombinationen erzeugen mit `itertools.product()`.\n",
    "\n"
   ],
   "metadata": {
    "collapsed": false
   },
   "id": "9c5bc8285422d0d6"
  },
  {
   "cell_type": "code",
   "outputs": [
    {
     "name": "stdout",
     "output_type": "stream",
     "text": [
      "('a', 'a', 'a', 'a')\n",
      "('a', 'a', 'a', 'b')\n",
      "('a', 'a', 'a', 'c')\n",
      "('a', 'a', 'a', 'd')\n",
      "('a', 'a', 'b', 'a')\n",
      "('a', 'a', 'b', 'b')\n",
      "('a', 'a', 'b', 'c')\n",
      "('a', 'a', 'b', 'd')\n",
      "('a', 'a', 'c', 'a')\n",
      "('a', 'a', 'c', 'b')\n",
      "('a', 'a', 'c', 'c')\n",
      "('a', 'a', 'c', 'd')\n",
      "('a', 'a', 'd', 'a')\n",
      "('a', 'a', 'd', 'b')\n",
      "('a', 'a', 'd', 'c')\n",
      "('a', 'a', 'd', 'd')\n",
      "('a', 'b', 'a', 'a')\n",
      "('a', 'b', 'a', 'b')\n",
      "('a', 'b', 'a', 'c')\n",
      "('a', 'b', 'a', 'd')\n",
      "('a', 'b', 'b', 'a')\n",
      "('a', 'b', 'b', 'b')\n",
      "('a', 'b', 'b', 'c')\n",
      "('a', 'b', 'b', 'd')\n",
      "('a', 'b', 'c', 'a')\n",
      "('a', 'b', 'c', 'b')\n",
      "('a', 'b', 'c', 'c')\n",
      "('a', 'b', 'c', 'd')\n",
      "('a', 'b', 'd', 'a')\n",
      "('a', 'b', 'd', 'b')\n",
      "('a', 'b', 'd', 'c')\n",
      "('a', 'b', 'd', 'd')\n",
      "('a', 'c', 'a', 'a')\n",
      "('a', 'c', 'a', 'b')\n",
      "('a', 'c', 'a', 'c')\n",
      "('a', 'c', 'a', 'd')\n",
      "('a', 'c', 'b', 'a')\n",
      "('a', 'c', 'b', 'b')\n",
      "('a', 'c', 'b', 'c')\n",
      "('a', 'c', 'b', 'd')\n",
      "('a', 'c', 'c', 'a')\n",
      "('a', 'c', 'c', 'b')\n",
      "('a', 'c', 'c', 'c')\n",
      "('a', 'c', 'c', 'd')\n",
      "('a', 'c', 'd', 'a')\n",
      "('a', 'c', 'd', 'b')\n",
      "('a', 'c', 'd', 'c')\n",
      "('a', 'c', 'd', 'd')\n",
      "('a', 'd', 'a', 'a')\n",
      "('a', 'd', 'a', 'b')\n",
      "('a', 'd', 'a', 'c')\n",
      "('a', 'd', 'a', 'd')\n",
      "('a', 'd', 'b', 'a')\n",
      "('a', 'd', 'b', 'b')\n",
      "('a', 'd', 'b', 'c')\n",
      "('a', 'd', 'b', 'd')\n",
      "('a', 'd', 'c', 'a')\n",
      "('a', 'd', 'c', 'b')\n",
      "('a', 'd', 'c', 'c')\n",
      "('a', 'd', 'c', 'd')\n",
      "('a', 'd', 'd', 'a')\n",
      "('a', 'd', 'd', 'b')\n",
      "('a', 'd', 'd', 'c')\n",
      "('a', 'd', 'd', 'd')\n",
      "('b', 'a', 'a', 'a')\n",
      "('b', 'a', 'a', 'b')\n",
      "('b', 'a', 'a', 'c')\n",
      "('b', 'a', 'a', 'd')\n",
      "('b', 'a', 'b', 'a')\n",
      "('b', 'a', 'b', 'b')\n",
      "('b', 'a', 'b', 'c')\n",
      "('b', 'a', 'b', 'd')\n",
      "('b', 'a', 'c', 'a')\n",
      "('b', 'a', 'c', 'b')\n",
      "('b', 'a', 'c', 'c')\n",
      "('b', 'a', 'c', 'd')\n",
      "('b', 'a', 'd', 'a')\n",
      "('b', 'a', 'd', 'b')\n",
      "('b', 'a', 'd', 'c')\n",
      "('b', 'a', 'd', 'd')\n",
      "('b', 'b', 'a', 'a')\n",
      "('b', 'b', 'a', 'b')\n",
      "('b', 'b', 'a', 'c')\n",
      "('b', 'b', 'a', 'd')\n",
      "('b', 'b', 'b', 'a')\n",
      "('b', 'b', 'b', 'b')\n",
      "('b', 'b', 'b', 'c')\n",
      "('b', 'b', 'b', 'd')\n",
      "('b', 'b', 'c', 'a')\n",
      "('b', 'b', 'c', 'b')\n",
      "('b', 'b', 'c', 'c')\n",
      "('b', 'b', 'c', 'd')\n",
      "('b', 'b', 'd', 'a')\n",
      "('b', 'b', 'd', 'b')\n",
      "('b', 'b', 'd', 'c')\n",
      "('b', 'b', 'd', 'd')\n",
      "('b', 'c', 'a', 'a')\n",
      "('b', 'c', 'a', 'b')\n",
      "('b', 'c', 'a', 'c')\n",
      "('b', 'c', 'a', 'd')\n",
      "('b', 'c', 'b', 'a')\n",
      "('b', 'c', 'b', 'b')\n",
      "('b', 'c', 'b', 'c')\n",
      "('b', 'c', 'b', 'd')\n",
      "('b', 'c', 'c', 'a')\n",
      "('b', 'c', 'c', 'b')\n",
      "('b', 'c', 'c', 'c')\n",
      "('b', 'c', 'c', 'd')\n",
      "('b', 'c', 'd', 'a')\n",
      "('b', 'c', 'd', 'b')\n",
      "('b', 'c', 'd', 'c')\n",
      "('b', 'c', 'd', 'd')\n",
      "('b', 'd', 'a', 'a')\n",
      "('b', 'd', 'a', 'b')\n",
      "('b', 'd', 'a', 'c')\n",
      "('b', 'd', 'a', 'd')\n",
      "('b', 'd', 'b', 'a')\n",
      "('b', 'd', 'b', 'b')\n",
      "('b', 'd', 'b', 'c')\n",
      "('b', 'd', 'b', 'd')\n",
      "('b', 'd', 'c', 'a')\n",
      "('b', 'd', 'c', 'b')\n",
      "('b', 'd', 'c', 'c')\n",
      "('b', 'd', 'c', 'd')\n",
      "('b', 'd', 'd', 'a')\n",
      "('b', 'd', 'd', 'b')\n",
      "('b', 'd', 'd', 'c')\n",
      "('b', 'd', 'd', 'd')\n",
      "('c', 'a', 'a', 'a')\n",
      "('c', 'a', 'a', 'b')\n",
      "('c', 'a', 'a', 'c')\n",
      "('c', 'a', 'a', 'd')\n",
      "('c', 'a', 'b', 'a')\n",
      "('c', 'a', 'b', 'b')\n",
      "('c', 'a', 'b', 'c')\n",
      "('c', 'a', 'b', 'd')\n",
      "('c', 'a', 'c', 'a')\n",
      "('c', 'a', 'c', 'b')\n",
      "('c', 'a', 'c', 'c')\n",
      "('c', 'a', 'c', 'd')\n",
      "('c', 'a', 'd', 'a')\n",
      "('c', 'a', 'd', 'b')\n",
      "('c', 'a', 'd', 'c')\n",
      "('c', 'a', 'd', 'd')\n",
      "('c', 'b', 'a', 'a')\n",
      "('c', 'b', 'a', 'b')\n",
      "('c', 'b', 'a', 'c')\n",
      "('c', 'b', 'a', 'd')\n",
      "('c', 'b', 'b', 'a')\n",
      "('c', 'b', 'b', 'b')\n",
      "('c', 'b', 'b', 'c')\n",
      "('c', 'b', 'b', 'd')\n",
      "('c', 'b', 'c', 'a')\n",
      "('c', 'b', 'c', 'b')\n",
      "('c', 'b', 'c', 'c')\n",
      "('c', 'b', 'c', 'd')\n",
      "('c', 'b', 'd', 'a')\n",
      "('c', 'b', 'd', 'b')\n",
      "('c', 'b', 'd', 'c')\n",
      "('c', 'b', 'd', 'd')\n",
      "('c', 'c', 'a', 'a')\n",
      "('c', 'c', 'a', 'b')\n",
      "('c', 'c', 'a', 'c')\n",
      "('c', 'c', 'a', 'd')\n",
      "('c', 'c', 'b', 'a')\n",
      "('c', 'c', 'b', 'b')\n",
      "('c', 'c', 'b', 'c')\n",
      "('c', 'c', 'b', 'd')\n",
      "('c', 'c', 'c', 'a')\n",
      "('c', 'c', 'c', 'b')\n",
      "('c', 'c', 'c', 'c')\n",
      "('c', 'c', 'c', 'd')\n",
      "('c', 'c', 'd', 'a')\n",
      "('c', 'c', 'd', 'b')\n",
      "('c', 'c', 'd', 'c')\n",
      "('c', 'c', 'd', 'd')\n",
      "('c', 'd', 'a', 'a')\n",
      "('c', 'd', 'a', 'b')\n",
      "('c', 'd', 'a', 'c')\n",
      "('c', 'd', 'a', 'd')\n",
      "('c', 'd', 'b', 'a')\n",
      "('c', 'd', 'b', 'b')\n",
      "('c', 'd', 'b', 'c')\n",
      "('c', 'd', 'b', 'd')\n",
      "('c', 'd', 'c', 'a')\n",
      "('c', 'd', 'c', 'b')\n",
      "('c', 'd', 'c', 'c')\n",
      "('c', 'd', 'c', 'd')\n",
      "('c', 'd', 'd', 'a')\n",
      "('c', 'd', 'd', 'b')\n",
      "('c', 'd', 'd', 'c')\n",
      "('c', 'd', 'd', 'd')\n",
      "('d', 'a', 'a', 'a')\n",
      "('d', 'a', 'a', 'b')\n",
      "('d', 'a', 'a', 'c')\n",
      "('d', 'a', 'a', 'd')\n",
      "('d', 'a', 'b', 'a')\n",
      "('d', 'a', 'b', 'b')\n",
      "('d', 'a', 'b', 'c')\n",
      "('d', 'a', 'b', 'd')\n",
      "('d', 'a', 'c', 'a')\n",
      "('d', 'a', 'c', 'b')\n",
      "('d', 'a', 'c', 'c')\n",
      "('d', 'a', 'c', 'd')\n",
      "('d', 'a', 'd', 'a')\n",
      "('d', 'a', 'd', 'b')\n",
      "('d', 'a', 'd', 'c')\n",
      "('d', 'a', 'd', 'd')\n",
      "('d', 'b', 'a', 'a')\n",
      "('d', 'b', 'a', 'b')\n",
      "('d', 'b', 'a', 'c')\n",
      "('d', 'b', 'a', 'd')\n",
      "('d', 'b', 'b', 'a')\n",
      "('d', 'b', 'b', 'b')\n",
      "('d', 'b', 'b', 'c')\n",
      "('d', 'b', 'b', 'd')\n",
      "('d', 'b', 'c', 'a')\n",
      "('d', 'b', 'c', 'b')\n",
      "('d', 'b', 'c', 'c')\n",
      "('d', 'b', 'c', 'd')\n",
      "('d', 'b', 'd', 'a')\n",
      "('d', 'b', 'd', 'b')\n",
      "('d', 'b', 'd', 'c')\n",
      "('d', 'b', 'd', 'd')\n",
      "('d', 'c', 'a', 'a')\n",
      "('d', 'c', 'a', 'b')\n",
      "('d', 'c', 'a', 'c')\n",
      "('d', 'c', 'a', 'd')\n",
      "('d', 'c', 'b', 'a')\n",
      "('d', 'c', 'b', 'b')\n",
      "('d', 'c', 'b', 'c')\n",
      "('d', 'c', 'b', 'd')\n",
      "('d', 'c', 'c', 'a')\n",
      "('d', 'c', 'c', 'b')\n",
      "('d', 'c', 'c', 'c')\n",
      "('d', 'c', 'c', 'd')\n",
      "('d', 'c', 'd', 'a')\n",
      "('d', 'c', 'd', 'b')\n",
      "('d', 'c', 'd', 'c')\n",
      "('d', 'c', 'd', 'd')\n",
      "('d', 'd', 'a', 'a')\n",
      "('d', 'd', 'a', 'b')\n",
      "('d', 'd', 'a', 'c')\n",
      "('d', 'd', 'a', 'd')\n",
      "('d', 'd', 'b', 'a')\n",
      "('d', 'd', 'b', 'b')\n",
      "('d', 'd', 'b', 'c')\n",
      "('d', 'd', 'b', 'd')\n",
      "('d', 'd', 'c', 'a')\n",
      "('d', 'd', 'c', 'b')\n",
      "('d', 'd', 'c', 'c')\n",
      "('d', 'd', 'c', 'd')\n",
      "('d', 'd', 'd', 'a')\n",
      "('d', 'd', 'd', 'b')\n",
      "('d', 'd', 'd', 'c')\n",
      "('d', 'd', 'd', 'd')\n"
     ]
    }
   ],
   "source": [
    "import itertools\n",
    "\n",
    "# Beispiel: Alle Kombinationen aus 'abc' mit Länge 2\n",
    "for guess in itertools.product('abcd', repeat=4):\n",
    "    print(guess)\n"
   ],
   "metadata": {
    "collapsed": false,
    "ExecuteTime": {
     "end_time": "2025-04-03T08:25:19.638797Z",
     "start_time": "2025-04-03T08:25:19.634484Z"
    }
   },
   "id": "ee3ec73695f85edf",
   "execution_count": 15
  },
  {
   "cell_type": "markdown",
   "source": [
    "# 4. Was brauchen wir für unsere Simulation?\n",
    "\n",
    "|  Baustein         |  Erklärung                                              |\n",
    "|-------------------|-----------------------------------------------------------|\n",
    "| `charset`         | Zeichensatz, z. B. `'abc'` oder `string.ascii_lowercase` |\n",
    "| `target_password` | Das zu erratende Passwort                                 |\n",
    "| Schleifen         | Um alle Kombinationen zu testen                          |\n",
    "| Vergleich         | Ist die Kombination richtig? Wenn ja → gefunden!         |\n",
    "| Zähler            | Anzahl der Versuche mitzählen                             |\n"
   ],
   "metadata": {
    "collapsed": false
   },
   "id": "68bc5ce8551a0bd5"
  },
  {
   "cell_type": "markdown",
   "source": [
    "---\n",
    "## 5. Deine Aufgabe\n",
    "\n",
    " **Aufgabe:**  \n",
    "Schreibe eine Funktion in Python, die ein Passwort durch **systematisches Ausprobieren** (Brute-Force) findet.\n",
    "\n",
    "---\n",
    "\n",
    "### Hinweise:\n",
    "\n",
    "- Das Passwort besteht **nur aus Kleinbuchstaben** (`a`–`z`)\n",
    "- Die **maximale Länge beträgt 3 Zeichen**\n",
    "- Verwende `itertools.product()` zur Erzeugung aller möglichen Kombinationen\n",
    "\n",
    "---\n",
    "\n",
    "Bonus: Miss die Anzahl der Versuche und gib sie am Ende mit aus.\n",
    "\n",
    "\n",
    "\n",
    "\n",
    "\n",
    "\n"
   ],
   "metadata": {
    "collapsed": false
   },
   "id": "6547462a9ac562e6"
  },
  {
   "cell_type": "code",
   "outputs": [],
   "source": [
    "import string\n",
    "\n",
    "def brute_force(target: str):\n",
    "    \n",
    "    \"\"\"\n",
    "    Simuliert einen Brute-Force-Angriff auf ein gegebenes Passwort.\n",
    "\n",
    "    Die Funktion versucht, ein übergebenes Zielpasswort (`target`) zu erraten,\n",
    "    indem sie systematisch alle möglichen Zeichenkombinationen aus einem \n",
    "    festgelegten Zeichensatz (Kleinbuchstaben a–z) generiert und prüft.\n",
    "\n",
    "    Der Algorithmus beginnt mit Passwörtern der Länge 1 und steigert die Länge \n",
    "    schrittweise bis zur Länge des Zielpassworts.\n",
    "\n",
    "    Parameter:\n",
    "    ----------\n",
    "    target : str\n",
    "        Das Passwort, das durch Brute-Force erraten werden soll.\n",
    "\n",
    "    Rückgabewert:\n",
    "    -------------\n",
    "    str\n",
    "        Das erfolgreich gefundene Passwort, sobald es erraten wurde.\n",
    "\n",
    "    None\n",
    "        Falls das Passwort innerhalb der festgelegten Kombinationen nicht \n",
    "        gefunden wird (z. B. wegen Sonderzeichen, zu langer Länge etc.).\n",
    "\n",
    "    Beispiel:\n",
    "    ---------\n",
    "    >>> brute_force(\"abc\")\n",
    "    Password found: 'abc' in 1234 attempts\n",
    "    'abc'\n",
    "    \"\"\"\n",
    "    \n",
    "    #länge definieren\n",
    "    length= len(target)\n",
    "\n",
    "    \n",
    "    # Zähler für versuche definieren\n",
    "    attempts= 0\n",
    "    \n",
    "    # Die Buchstaben definieren\n",
    "    charset = string.ascii_lowercase\n",
    "    \n",
    "    # Genereation aller möglichen Kombinationen\n",
    "    for guess in itertools.product(charset, repeat=length):  \n",
    "        \n",
    "            attempts += 1  # Count each guess attempt\n",
    "        \n",
    "            # Convert the tuple (e.g., ('a', 'b', 'c')) into a string (e.g., \"abc\")\n",
    "            guess_str = ''.join(guess)\n",
    "        \n",
    "            # Check if the current guess matches the target password\n",
    "            if guess_str == target:\n",
    "                # If found, print result and number of attempts\n",
    "                print(f\" Passwort gefunden: '{guess_str}' in {attempts} versuchen\")\n",
    "    \n",
    "    \n",
    "    return None\n",
    "    "
   ],
   "metadata": {
    "collapsed": false,
    "ExecuteTime": {
     "end_time": "2025-04-03T08:58:13.319109Z",
     "start_time": "2025-04-03T08:58:13.315044Z"
    }
   },
   "id": "4cc6d7d54fbbdd42",
   "execution_count": 49
  },
  {
   "cell_type": "code",
   "outputs": [],
   "source": [
    "# DAS PASSWORT NICHT VERÄNDERN\n",
    "target_password = \"bacd\"  # Beabsichtigt Schwaches Passwort"
   ],
   "metadata": {
    "collapsed": false,
    "ExecuteTime": {
     "end_time": "2025-04-03T08:58:13.552302Z",
     "start_time": "2025-04-03T08:58:13.549457Z"
    }
   },
   "id": "8ba6297fa96dcba8",
   "execution_count": 50
  },
  {
   "cell_type": "code",
   "outputs": [
    {
     "name": "stdout",
     "output_type": "stream",
     "text": [
      " Passwort gefunden: 'bacd' in 17632 versuchen\n"
     ]
    }
   ],
   "source": [
    "brute_force(target_password)"
   ],
   "metadata": {
    "collapsed": false,
    "ExecuteTime": {
     "end_time": "2025-04-03T08:58:16.669094Z",
     "start_time": "2025-04-03T08:58:16.613088Z"
    }
   },
   "id": "4f8a930ff811f43d",
   "execution_count": 51
  },
  {
   "cell_type": "markdown",
   "source": [
    "## 6. Zeit messen\n",
    "\n",
    "**Aufgabe:**  \n",
    "Erweitere deine Brute-Force-Funktion so, dass die **benötigte Zeit gemessen und ausgegeben** wird.\n",
    "\n",
    "Wie hoch ist der Unterschied bei einer erhöhung auf 4 bzw. 5 Zeichen?\n",
    "\n",
    "---\n",
    "\n",
    "### Hinweise:\n",
    "\n",
    "- Nutze das `time`-Modul in Python:\n",
    "  ```python\n",
    "  import time\n"
   ],
   "metadata": {
    "collapsed": false
   },
   "id": "655b5407be848dce"
  },
  {
   "cell_type": "code",
   "outputs": [
    {
     "name": "stdout",
     "output_type": "stream",
     "text": [
      " Passwort gefunden: 'passw' in 6867299 versuchen\n",
      "Das Password wurden in 1.15 Sekunden gefunden\n"
     ]
    }
   ],
   "source": [
    "import time\n",
    "start= time.time()\n",
    "brute_force(\"passw\")\n",
    "print(f\"Das Password wurden in {time.time() - start:.2f} Sekunden gefunden\")"
   ],
   "metadata": {
    "collapsed": false,
    "ExecuteTime": {
     "end_time": "2025-04-03T08:56:48.878666Z",
     "start_time": "2025-04-03T08:56:47.724497Z"
    }
   },
   "id": "dc95377bf108fdc7",
   "execution_count": 47
  },
  {
   "cell_type": "code",
   "outputs": [
    {
     "name": "stdout",
     "output_type": "stream",
     "text": [
      " Passwort gefunden: 'passwo' in 178549763 versuchen\n",
      "Das Password wurden in 30.82 Sekunden gefunden\n"
     ]
    }
   ],
   "source": [
    "import time\n",
    "start= time.time()\n",
    "brute_force(\"passwo\")\n",
    "print(f\"Das Password wurden in {time.time() - start:.2f} Sekunden gefunden\")"
   ],
   "metadata": {
    "collapsed": false,
    "ExecuteTime": {
     "end_time": "2025-04-03T08:59:05.988145Z",
     "start_time": "2025-04-03T08:58:35.167125Z"
    }
   },
   "id": "a9847248de2fd18e",
   "execution_count": 52
  },
  {
   "cell_type": "code",
   "outputs": [
    {
     "name": "stdout",
     "output_type": "stream",
     "text": [
      " Passwort gefunden: 'passwor' in 4642293830 versuchen\n",
      "Das Password wurden in 847.50 Sekunden gefunden\n"
     ]
    }
   ],
   "source": [
    "import time\n",
    "start= time.time()\n",
    "brute_force(\"passwor\")\n",
    "print(f\"Das Password wurden in {time.time() - start:.2f} Sekunden gefunden\")"
   ],
   "metadata": {
    "collapsed": false,
    "ExecuteTime": {
     "end_time": "2025-04-03T09:13:40.979525Z",
     "start_time": "2025-04-03T08:59:33.473940Z"
    }
   },
   "id": "76baf875306f9202",
   "execution_count": 53
  },
  {
   "cell_type": "code",
   "outputs": [],
   "source": [],
   "metadata": {
    "collapsed": false
   },
   "id": "2b872706a42b79e9"
  }
 ],
 "metadata": {
  "kernelspec": {
   "display_name": "Python 3",
   "language": "python",
   "name": "python3"
  },
  "language_info": {
   "codemirror_mode": {
    "name": "ipython",
    "version": 2
   },
   "file_extension": ".py",
   "mimetype": "text/x-python",
   "name": "python",
   "nbconvert_exporter": "python",
   "pygments_lexer": "ipython2",
   "version": "2.7.6"
  }
 },
 "nbformat": 4,
 "nbformat_minor": 5
}
