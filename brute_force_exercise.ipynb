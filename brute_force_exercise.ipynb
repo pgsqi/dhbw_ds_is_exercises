{
 "cells": [
  {
   "cell_type": "markdown",
   "source": [
    "# Exercise Brute Force Attack"
   ],
   "metadata": {
    "collapsed": false
   },
   "id": "e2020b2a83b94257"
  },
  {
   "cell_type": "markdown",
   "source": [
    "# Vorbereitung: Brute-Force-Angriff verstehen\n",
    "\n",
    "## Ziel der Lerneinheit\n",
    "\n",
    "In dieser Übung lernst du:\n",
    "\n",
    "- was ein Brute-Force-Angriff ist,\n",
    "- wie man ihn in Python simulieren kann,\n",
    "- und warum Passwortlänge und -komplexität wichtig für die IT-Sicherheit sind."
   ],
   "metadata": {
    "collapsed": false
   },
   "id": "e2cde9f92bfa3a3d"
  },
  {
   "cell_type": "markdown",
   "source": [
    "---\n",
    "\n",
    "## 1. Was ist ein Brute-Force-Angriff?\n",
    "\n",
    "Ein **Brute-Force-Angriff** probiert systematisch alle möglichen Passwörter aus – solange, bis das richtige gefunden wurde.\n",
    "\n",
    "> Beispiel:  \n",
    "> Bei einem Passwort mit 3 Buchstaben aus a–z gibt es 26 × 26 × 26 = **17.576 Kombinationen**."
   ],
   "metadata": {
    "collapsed": false
   },
   "id": "87171011eceed770"
  },
  {
   "cell_type": "markdown",
   "source": [
    "---\n",
    "\n",
    "## 2. Wie viele Passwörter sind möglich?\n",
    "\n",
    "**Formel:**  \n",
    "`Anzahl Kombinationen = Zeichenzahl ^ Passwortlänge`\n",
    "\n",
    "| Zeichensatz            | Beispiel             | Zeichenzahl | Kombis bei Länge 4 |\n",
    "|------------------------|----------------------|-------------|---------------------|\n",
    "| Kleinbuchstaben        | a–z                  | 26          | 456.976             |\n",
    "| Klein- und Großbuchst. | a–z, A–Z             | 52          | 7.311.616           |\n",
    "| + Ziffern              | a–z, A–Z, 0–9        | 62          | 14.776.336          |\n",
    "| + Sonderzeichen        | a–z, A–Z, 0–9, Symbole| ~95         | 81.450.625          |\n",
    "\n",
    "Je **länger** und **komplexer** ein Passwort, desto **sicherer**!\n",
    "---"
   ],
   "metadata": {
    "collapsed": false
   },
   "id": "a1cfb403d4cf3dde"
  },
  {
   "cell_type": "markdown",
   "source": [
    "\n",
    "## 3. Wie funktioniert das in Python?\n",
    "\n",
    "Python kann alle möglichen Kombinationen erzeugen mit `itertools.product()`.\n",
    "\n"
   ],
   "metadata": {
    "collapsed": false
   },
   "id": "9c5bc8285422d0d6"
  },
  {
   "cell_type": "code",
   "outputs": [
    {
     "name": "stdout",
     "output_type": "stream",
     "text": [
      "('a', 'a')\n",
      "('a', 'b')\n",
      "('a', 'c')\n",
      "('b', 'a')\n",
      "('b', 'b')\n",
      "('b', 'c')\n",
      "('c', 'a')\n",
      "('c', 'b')\n",
      "('c', 'c')\n"
     ]
    }
   ],
   "source": [
    "import itertools\n",
    "\n",
    "# Beispiel: Alle Kombinationen aus 'abc' mit Länge 2\n",
    "for guess in itertools.product('abc', repeat=2):\n",
    "    print(guess)\n"
   ],
   "metadata": {
    "collapsed": false,
    "ExecuteTime": {
     "end_time": "2025-04-02T19:29:45.461769Z",
     "start_time": "2025-04-02T19:29:45.457927Z"
    }
   },
   "id": "ee3ec73695f85edf",
   "execution_count": 12
  },
  {
   "cell_type": "markdown",
   "source": [
    "# 4. Was brauchen wir für unsere Simulation?\n",
    "\n",
    "|  Baustein         |  Erklärung                                              |\n",
    "|-------------------|-----------------------------------------------------------|\n",
    "| `charset`         | Zeichensatz, z. B. `'abc'` oder `string.ascii_lowercase` |\n",
    "| `target_password` | Das zu erratende Passwort                                 |\n",
    "| Schleifen         | Um alle Kombinationen zu testen                          |\n",
    "| Vergleich         | Ist die Kombination richtig? Wenn ja → gefunden!         |\n",
    "| Zähler            | Anzahl der Versuche mitzählen                             |\n"
   ],
   "metadata": {
    "collapsed": false
   },
   "id": "68bc5ce8551a0bd5"
  },
  {
   "cell_type": "markdown",
   "source": [
    "---\n",
    "## 5. Deine Aufgabe\n",
    "\n",
    " **Aufgabe:**  \n",
    "Schreibe eine Funktion in Python, die ein Passwort durch **systematisches Ausprobieren** (Brute-Force) findet.\n",
    "\n",
    "---\n",
    "\n",
    "### Hinweise:\n",
    "\n",
    "- Das Passwort besteht **nur aus Kleinbuchstaben** (`a`–`z`)\n",
    "- Die **maximale Länge beträgt 3 Zeichen**\n",
    "- Verwende `itertools.product()` zur Erzeugung aller möglichen Kombinationen\n",
    "\n",
    "---\n",
    "\n",
    "Bonus: Miss die Anzahl der Versuche und gib sie am Ende mit aus.\n",
    "\n"
   ],
   "metadata": {
    "collapsed": false
   },
   "id": "6547462a9ac562e6"
  },
  {
   "cell_type": "code",
   "outputs": [],
   "source": [
    "# DAS PASSWORT NICHT VERÄNDERN\n",
    "target_password = \"abc\"  # Beabsichtigt Schwaches Passwort"
   ],
   "metadata": {
    "collapsed": false,
    "ExecuteTime": {
     "end_time": "2025-04-02T15:01:05.425025Z",
     "start_time": "2025-04-02T15:01:05.421857Z"
    }
   },
   "id": "8ba6297fa96dcba8",
   "execution_count": 2
  },
  {
   "cell_type": "code",
   "outputs": [],
   "source": [
    "def brute_force(target):\n",
    "    \"\"\"\n",
    "    Simuliert einen Brute-Force-Angriff auf ein gegebenes Passwort.\n",
    "\n",
    "    Die Funktion versucht, ein übergebenes Zielpasswort (`target`) zu erraten,\n",
    "    indem sie systematisch alle möglichen Zeichenkombinationen aus einem \n",
    "    festgelegten Zeichensatz (Kleinbuchstaben a–z) generiert und prüft.\n",
    "\n",
    "    Der Algorithmus beginnt mit Passwörtern der Länge 1 und steigert die Länge \n",
    "    schrittweise bis zur Länge des Zielpassworts.\n",
    "\n",
    "    Parameter:\n",
    "    ----------\n",
    "    target : str\n",
    "        Das Passwort, das durch Brute-Force erraten werden soll.\n",
    "\n",
    "    Rückgabewert:\n",
    "    -------------\n",
    "    str\n",
    "        Das erfolgreich gefundene Passwort, sobald es erraten wurde.\n",
    "\n",
    "    None\n",
    "        Falls das Passwort innerhalb der festgelegten Kombinationen nicht \n",
    "        gefunden wird (z. B. wegen Sonderzeichen, zu langer Länge etc.).\n",
    "\n",
    "    Beispiel:\n",
    "    ---------\n",
    "    >>> brute_force(\"abc\")\n",
    "    Password found: 'abc' in 1234 attempts\n",
    "    'abc'\n",
    "    \"\"\"\n",
    "    \n",
    "    # Bitte füge Deinen Code ein\n",
    "    return None"
   ],
   "metadata": {
    "collapsed": false,
    "ExecuteTime": {
     "end_time": "2025-04-02T15:36:55.619086Z",
     "start_time": "2025-04-02T15:36:55.614106Z"
    }
   },
   "id": "3575a854199f173",
   "execution_count": 10
  },
  {
   "cell_type": "markdown",
   "source": [
    "## 6. Bonus-Aufgabe: Zeit messen\n",
    "\n",
    "**Aufgabe:**  \n",
    "Erweitere deine Brute-Force-Funktion so, dass die **benötigte Zeit gemessen und ausgegeben** wird.\n",
    "\n",
    "Wie hoch ist der Unterschied bei einer erhöhung auf 4 bzw. 5 Zeichen?\n",
    "\n",
    "---\n",
    "\n",
    "### Hinweise:\n",
    "\n",
    "- Nutze das `time`-Modul in Python:\n",
    "  ```python\n",
    "  import time\n"
   ],
   "metadata": {
    "collapsed": false
   },
   "id": "655b5407be848dce"
  },
  {
   "cell_type": "code",
   "outputs": [],
   "source": [],
   "metadata": {
    "collapsed": false,
    "ExecuteTime": {
     "end_time": "2025-04-02T15:38:33.335888Z",
     "start_time": "2025-04-02T15:38:33.333966Z"
    }
   },
   "id": "a9847248de2fd18e",
   "execution_count": 10
  },
  {
   "cell_type": "code",
   "outputs": [],
   "source": [],
   "metadata": {
    "collapsed": false
   },
   "id": "76baf875306f9202"
  }
 ],
 "metadata": {
  "kernelspec": {
   "display_name": "Python 3",
   "language": "python",
   "name": "python3"
  },
  "language_info": {
   "codemirror_mode": {
    "name": "ipython",
    "version": 2
   },
   "file_extension": ".py",
   "mimetype": "text/x-python",
   "name": "python",
   "nbconvert_exporter": "python",
   "pygments_lexer": "ipython2",
   "version": "2.7.6"
  }
 },
 "nbformat": 4,
 "nbformat_minor": 5
}
