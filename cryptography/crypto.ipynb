{
 "cells": [
  {
   "cell_type": "markdown",
   "metadata": {},
   "source": [
    "# Praktische Übung: Hashing, Signieren und Verifizieren"
   ]
  },
  {
   "cell_type": "markdown",
   "metadata": {},
   "source": [
    "## 1. Einführung: Hashfunktionen\n",
    "Theorie:\n",
    "Hashfunktionen wandeln beliebige Nachrichten in eine kurze, feste Länge um.\n",
    "Schon kleine Änderungen am Text führen zu völlig anderen Hashwerten.\n",
    "\n"
   ]
  },
  {
   "cell_type": "markdown",
   "metadata": {},
   "source": [
    "Aufgabe 1: Hashfunktion anwenden\n",
    "Beispielcode:"
   ]
  },
  {
   "cell_type": "code",
   "execution_count": 1,
   "metadata": {},
   "outputs": [],
   "source": [
    "import hashlib\n",
    "\n",
    "def hash_message(message):\n",
    "    return hashlib.sha256(message.encode()).hexdigest()"
   ]
  },
  {
   "cell_type": "code",
   "execution_count": 2,
   "metadata": {},
   "outputs": [
    {
     "name": "stdout",
     "output_type": "stream",
     "text": [
      "2d2da19605a34e037dbe82173f98a992a530a5fdd53dad882f570d4ba204ef30\n"
     ]
    }
   ],
   "source": [
    "# Beispiel: Hash berechnen\n",
    "print(hash_message(\"Hallo Welt\"))"
   ]
  },
  {
   "cell_type": "markdown",
   "metadata": {},
   "source": [
    "Aufgabe 1.2:\n",
    "\n",
    "- Hashes ein eigenes Wort bspw. \"Daten\"\n",
    "- Hashe das gleiche Wort kleingeschrieben\n",
    "- Vergleiche die Wörter -> Was fällt Dir auf?"
   ]
  },
  {
   "cell_type": "code",
   "execution_count": 3,
   "metadata": {},
   "outputs": [],
   "source": [
    "# Dein Wort/Code hier"
   ]
  },
  {
   "cell_type": "markdown",
   "metadata": {},
   "source": [
    "## 2. Prinzip der digitalen Signatur (Simulation)"
   ]
  },
  {
   "cell_type": "markdown",
   "metadata": {},
   "source": [
    "Theorie:\n",
    "Bei digitalen Signaturen wird nicht die Nachricht selbst verschlüsselt, sondern der Hash der Nachricht.\n"
   ]
  },
  {
   "cell_type": "markdown",
   "metadata": {},
   "source": [
    "Aufgabe 2: Signieren und Verifizieren simmunlieren"
   ]
  },
  {
   "cell_type": "code",
   "execution_count": 17,
   "metadata": {},
   "outputs": [],
   "source": [
    "# \"Fake\" Private Key Operation:\n",
    "# Simulation einer Signatur-Erstellung durch einfaches Umdrehen des Hash-Strings.\n",
    "# (In der echten Kryptographie würde hier eine Verschlüsselung mit dem Private Key erfolgen.)\n",
    "def fake_private_key_encrypt(hash_value):\n",
    "    return hash_value[::-1]\n"
   ]
  },
  {
   "cell_type": "code",
   "execution_count": 18,
   "metadata": {},
   "outputs": [],
   "source": [
    "# \"Fake\" Public Key Operation:\n",
    "# Simulation einer Signatur-Verifikation durch erneutes Umdrehen des Strings.\n",
    "# (In der echten Kryptographie würde hier eine Entschlüsselung mit dem Public Key erfolgen.)\n",
    "def fake_public_key_decrypt(signature):\n",
    "    return signature[::-1]\n"
   ]
  },
  {
   "cell_type": "code",
   "execution_count": 14,
   "metadata": {},
   "outputs": [
    {
     "data": {
      "text/plain": [
       "'e76fe45ab81ee565c74d41c3ccd9bef158d2be24b54cce9f971f3f9d62a5d364'"
      ]
     },
     "execution_count": 14,
     "metadata": {},
     "output_type": "execute_result"
    }
   ],
   "source": [
    "# Nachricht\n",
    "message = \"Vertrauenswürdige Nachricht\"\n",
    "hash_value = hash_message(message)\n",
    "hash_value"
   ]
  },
  {
   "cell_type": "code",
   "execution_count": 15,
   "metadata": {},
   "outputs": [
    {
     "data": {
      "text/plain": [
       "'463d5a26d9f3f179f9ecc45b42eb2d851feb9dcc3c14d47c565ee18ba54ef67e'"
      ]
     },
     "execution_count": 15,
     "metadata": {},
     "output_type": "execute_result"
    }
   ],
   "source": [
    "\n",
    "# \"Signatur\" erstellen\n",
    "signature = fake_private_key_encrypt(hash_value)\n",
    "signature"
   ]
  },
  {
   "cell_type": "code",
   "execution_count": 16,
   "metadata": {},
   "outputs": [
    {
     "data": {
      "text/plain": [
       "'e76fe45ab81ee565c74d41c3ccd9bef158d2be24b54cce9f971f3f9d62a5d364'"
      ]
     },
     "execution_count": 16,
     "metadata": {},
     "output_type": "execute_result"
    }
   ],
   "source": [
    "# \"Verifizieren\"\n",
    "verified_hash = fake_public_key_decrypt(signature)\n",
    "verified_hash\n"
   ]
  },
  {
   "cell_type": "code",
   "execution_count": 13,
   "metadata": {},
   "outputs": [
    {
     "name": "stdout",
     "output_type": "stream",
     "text": [
      "Verifiziert: True\n"
     ]
    }
   ],
   "source": [
    "print(\"Verifiziert:\", hash_value == verified_hash)"
   ]
  },
  {
   "cell_type": "markdown",
   "metadata": {},
   "source": [
    "Aufgabe 2.2 Eigene Aufgaben:\n",
    "\n",
    "Schreibe ein Python-Programm, das folgendes kann:\n",
    "\n",
    "- Eine Nachricht wird vom Benutzer eingegeben.\n",
    "- Die Nachricht wird mit einer Hashfunktion (z. B. SHA-256) gehasht.\n",
    "- Der Hashwert wird mit einem generierten RSA Private Key signiert.\n",
    "- Die Nachricht und die Signatur werden ausgegeben.\n",
    "- Im Anschluss wird automatisch geprüft:\n",
    "    - Ob die Signatur zur ursprünglichen Nachricht passt (Verifikation)."
   ]
  },
  {
   "cell_type": "code",
   "execution_count": 1,
   "metadata": {},
   "outputs": [],
   "source": []
  },
  {
   "cell_type": "code",
   "execution_count": 2,
   "metadata": {},
   "outputs": [],
   "source": []
  },
  {
   "cell_type": "code",
   "execution_count": 3,
   "metadata": {},
   "outputs": [],
   "source": []
  },
  {
   "cell_type": "code",
   "execution_count": 4,
   "metadata": {},
   "outputs": [
    {
     "name": "stdout",
     "output_type": "stream",
     "text": [
      "\n",
      "Originale Nachricht:\n",
      "Dies ist eine vertrauliche Nachricht.\n",
      "\n",
      "Erzeugte Signatur (hexadezimal dargestellt):\n",
      "701f089318e2b14d50824e0ef17fe47b1cf2202d003119461d7b6b10ed4b6aa485fee58df6e17d942676415bfc0e7f430cfd2649affb8d47e97d79230e699528\n",
      "\n",
      "Überprüfung der Signatur:\n",
      "✅ Verifiziert: Nachricht ist echt und unverändert.\n"
     ]
    }
   ],
   "source": []
  },
  {
   "cell_type": "code",
   "execution_count": null,
   "metadata": {},
   "outputs": [],
   "source": []
  }
 ],
 "metadata": {
  "kernelspec": {
   "display_name": ".venv",
   "language": "python",
   "name": "python3"
  },
  "language_info": {
   "codemirror_mode": {
    "name": "ipython",
    "version": 3
   },
   "file_extension": ".py",
   "mimetype": "text/x-python",
   "name": "python",
   "nbconvert_exporter": "python",
   "pygments_lexer": "ipython3",
   "version": "3.13.2"
  }
 },
 "nbformat": 4,
 "nbformat_minor": 2
}
