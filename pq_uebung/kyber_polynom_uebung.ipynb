{
 "cells": [
  {
   "cell_type": "markdown",
   "source": [
    "# Übung: Rechnen mit Polynomen – Bausteine der Post-Quantum-Kryptographie\n",
    "\n",
    "In dieser Übung lernst ihr:\n",
    "- wie man Polynome in Python darstellt,\n",
    "- wie man sie addiert und multipliziert,\n",
    "- wie man modulare Polynom-Arithmetik durchführt (wie z. B. in Kyber)\n",
    "- und wie diese Rechenart kryptographisch genutzt wird.\n"
   ],
   "metadata": {
    "collapsed": false
   },
   "id": "3ea8a96978428cfc"
  },
  {
   "cell_type": "markdown",
   "source": [
    "## Grundlegende Polynomrechnung"
   ],
   "metadata": {
    "collapsed": false
   },
   "id": "b295823be7ff2ba9"
  },
  {
   "cell_type": "code",
   "outputs": [
    {
     "name": "stdout",
     "output_type": "stream",
     "text": [
      "f(x) + g(x) = Poly(x**3 + 3*x**2 + 3*x + 3, x, domain='ZZ')\n",
      "f(x) * g(x) = Poly(3*x**5 + x**4 + 8*x**3 + 5*x**2 + 5*x + 2, x, domain='ZZ')\n"
     ]
    }
   ],
   "source": [
    "from sympy import symbols, Poly\n",
    "\n",
    "# Definiere eine symbolische Variable 'x'\n",
    "x = symbols('x')\n",
    "\n",
    "# Erstelle zwei Polynome f(x) und g(x) mit ganzzahligen Koeffizienten\n",
    "# Hinweis: domain='ZZ' ist implizit – alle Koeffizienten sind in den ganzen Zahlen\n",
    "f = Poly(x**3 + 2*x + 1, x)\n",
    "g = Poly(3*x**2 + x + 2, x)\n",
    "\n",
    "# Berechne die Summe der beiden Polynome\n",
    "print(\"f(x) + g(x) =\", f + g)\n",
    "# Berechne das Produkt der beiden Polynome\n",
    "print(\"f(x) * g(x) =\", f * g)\n"
   ],
   "metadata": {
    "collapsed": false,
    "ExecuteTime": {
     "end_time": "2025-05-05T18:23:34.120497Z",
     "start_time": "2025-05-05T18:23:33.862879Z"
    }
   },
   "id": "b4c47c2ede311ed7",
   "execution_count": 1
  },
  {
   "cell_type": "markdown",
   "source": [
    "Bedeutung von 'Domain':\n",
    "- 'ZZ' Ganze Zahlen \n",
    "- 'QQ' Rationale Zahlen \n",
    "- 'RR' Reelle Zahlen \n",
    "- 'CC' Komplexe Zahlen \n",
    "- GF(p) Endlicher Körper z.B. GF(3329) für Rechnen mod 3329 (wie in Kyber)\n"
   ],
   "metadata": {
    "collapsed": false
   },
   "id": "680d59013f99b703"
  },
  {
   "cell_type": "markdown",
   "source": [
    "# Was bedeutet `domain=GF(q)` in einem Polynom?\n",
    "\n",
    "Wenn wir in Python (z. B. mit `sympy`) ein Polynom mit `domain=GF(q)` definieren, sagen wir:\n",
    "\n",
    "*\"Alle Koeffizienten des Polynoms liegen in einem **endlichen Körper** \\( \\mathbb{Z}_q \\), also werden alle Rechnungen **modulo \\( q \\)** durchgeführt.\"*\n",
    "\n",
    "---\n",
    "\n",
    "### Was ist ein endlicher Körper?\n",
    "\n",
    "Ein **endlicher Körper** (engl. *finite field*) ist eine Menge mit endlich vielen Zahlen, in der man:\n",
    "- **addieren**,  \n",
    "- **subtrahieren**,  \n",
    "- **multiplizieren**  \n",
    "- und **dividieren** (außer durch 0) kann – **ohne Fehler oder Widersprüche**.\n",
    "\n",
    "Er wird meist so geschrieben: \n",
    "\n",
    "$$\n",
    "\\text{GF}(q) = \\mathbb{Z}_q\n",
    "$$\n",
    "\n",
    "\n",
    "wobei \\( q \\) eine **Primzahl** ist.\n",
    "\n",
    "---\n",
    "\n",
    "### Beispiel: GF(7) = Rechnen **modulo 7**\n",
    "\n",
    "Das heißt: wir rechnen mit den Zahlen \\( \\{0, 1, 2, 3, 4, 5, 6\\} \\)\n",
    "\n",
    "- \\( 4 + 5 = 2 \\) (denn \\( 9 \\mod 7 = 2 \\))  \n",
    "- \\( 3 \\times 3 = 2 \\) (denn \\( 9 \\mod 7 = 2 \\))  \n",
    "- Jeder Wert \\( \\neq 0 \\) hat ein **multiplikatives Inverses**\n",
    "\n",
    "---\n",
    "\n",
    "### Warum wichtig für Kryptographie?\n",
    "\n",
    "Viele Post-Quantum-Verfahren wie **Kyber, Dilithium oder NTRU** verwenden Polynome, deren Koeffizienten in einem **endlichen Körper** liegen – z. B. \n",
    "\n",
    "$$\n",
    "\\( \\mathbb{Z}_{3329} \\)\n",
    "$$\n",
    "\n",
    "- Das ist effizient (kleiner Wertebereich)\n",
    "- Mathematisch sicher (Körperstruktur)\n",
    "- Modularrechnungen sind **leicht auf Hardware abbildbar**\n",
    "\n",
    "---\n",
    "\n",
    "### Fazit\n",
    "\n",
    "> `domain=GF(q)` bedeutet:  \n",
    "> Wir rechnen mit Polynomen, deren **Koeffizienten modulo \\( q \\)** verarbeitet werden – eine zentrale Technik in der Post-Quantum-Kryptographie.\n"
   ],
   "metadata": {
    "collapsed": false
   },
   "id": "f9ecf6425bdee7ae"
  },
  {
   "cell_type": "markdown",
   "source": [
    "# Modulare Berechnung von Mini-Kyber"
   ],
   "metadata": {
    "collapsed": false
   },
   "id": "3e9de4fa9ab69a0b"
  },
  {
   "cell_type": "code",
   "outputs": [],
   "source": [
    "from sympy import GF, div\n",
    "\n",
    "# Wir arbeiten modulo 3329 – das ist der Primzahl-Modulus wie im Kyber-Kryptosystem\n",
    "q = 3329  # Modulus wie in Kyber\n",
    "x = symbols('x')"
   ],
   "metadata": {
    "collapsed": false,
    "ExecuteTime": {
     "end_time": "2025-05-05T18:47:01.927596Z",
     "start_time": "2025-05-05T18:47:01.923585Z"
    }
   },
   "id": "deddbae2cd8aafde",
   "execution_count": 3
  },
  {
   "cell_type": "code",
   "outputs": [],
   "source": [
    "# Definiere zwei Polynome f(x) und g(x), deren Koeffizienten in Z_q liegen\n",
    "# Das bedeutet: Alle Koeffizienten werden automatisch modulo 3329 reduziert\n",
    "f = Poly(x**3 + 2*x + 1, x, domain=GF(q))\n",
    "g = Poly(3*x**2 + x + 2, x, domain=GF(q))"
   ],
   "metadata": {
    "collapsed": false,
    "ExecuteTime": {
     "end_time": "2025-05-05T18:47:12.928594Z",
     "start_time": "2025-05-05T18:47:12.923779Z"
    }
   },
   "id": "4c07bc225f98119c",
   "execution_count": 4
  },
  {
   "cell_type": "code",
   "outputs": [],
   "source": [
    "# Multipliziere die beiden Polynome\n",
    "produkt = f * g"
   ],
   "metadata": {
    "collapsed": false
   },
   "id": "ff2c605b2d85c986",
   "execution_count": null
  },
  {
   "cell_type": "code",
   "outputs": [],
   "source": [
    "# Definiere das Reduktionspolynom x^4 + 1\n",
    "# In Kyber arbeitet man modulo (x^n + 1), hier vereinfacht mit n=4\n",
    "modulus = Poly(x**4 + 1, x, domain=GF(q))"
   ],
   "metadata": {
    "collapsed": false
   },
   "id": "7223ca54ffd219d7",
   "execution_count": 0
  },
  {
   "cell_type": "code",
   "outputs": [
    {
     "name": "stdout",
     "output_type": "stream",
     "text": [
      "Reduktion modulo x^4 + 1: Poly(8*x**3 + 5*x**2 + 2*x + 1, x, modulus=3329)\n"
     ]
    }
   ],
   "source": [
    "# Berechne das Produkt modulo x^4 + 1 → entspricht der Arbeit in einem Polynomring\n",
    "_, rest = div(produkt, modulus)\n",
    "print(\"Reduktion modulo x^4 + 1:\", rest)"
   ],
   "metadata": {
    "collapsed": false,
    "ExecuteTime": {
     "end_time": "2025-05-05T18:50:22.253025Z",
     "start_time": "2025-05-05T18:50:22.248240Z"
    }
   },
   "id": "b393d617a212dc0f",
   "execution_count": 5
  },
  {
   "cell_type": "code",
   "outputs": [],
   "source": [
    "#---\n",
    "# Mini-Kyber-Simulation: Schlüsselgenerierung und Verschlüsselung\n",
    "# Das folgende Beispiel zeigt, wie man mit Polynomen einen „geheimen Schlüssel“ und eine „Nachricht“ kombinieren könnte\n",
    "\n",
    "# Geheimschlüssel s(x) – zufälliges Polynom (vereinfacht)\n",
    "s = Poly(2*x**3 + x + 5, x, domain=GF(q))   # Geheim"
   ],
   "metadata": {
    "collapsed": false
   },
   "id": "535ccc3f68fc6da0",
   "execution_count": null
  },
  {
   "cell_type": "code",
   "outputs": [],
   "source": [
    "# Öffentliches Polynom a(x) – ähnlich wie in Kyber der öffentlich bekannte Parameter\n",
    "a = Poly(123*x + 88, x, domain=GF(q))       # Öffentlich"
   ],
   "metadata": {
    "collapsed": false
   },
   "id": "eddd5192eb013156",
   "execution_count": null
  },
  {
   "cell_type": "code",
   "outputs": [],
   "source": [
    "# Fehlerterm e(x) – simuliert den \"Noise\", der zur Sicherheit beiträgt\n",
    "e = Poly(1, x, domain=GF(q))                # Rauschterm"
   ],
   "metadata": {
    "collapsed": false
   },
   "id": "bdb1cac09b4ad184",
   "execution_count": null
  },
  {
   "cell_type": "code",
   "outputs": [],
   "source": [
    "# \"Verschlüsselung\": p(x) = a(x) * s(x) + e(x)\n",
    "p = a * s + e"
   ],
   "metadata": {
    "collapsed": false
   },
   "id": "b9d7c8ad35ed5971",
   "execution_count": null
  },
  {
   "cell_type": "code",
   "outputs": [
    {
     "name": "stdout",
     "output_type": "stream",
     "text": [
      "Öffentliche Nachricht (verschlüsselt): Poly(176*x**3 + 123*x**2 + 703*x + 195, x, modulus=3329)\n"
     ]
    }
   ],
   "source": [
    "# Reduziere die verschlüsselte Nachricht modulo (x^4 + 1), wie im Kyber-Ring\n",
    "_, p_reduced = div(p, modulus)\n",
    "print(\"Öffentliche Nachricht (verschlüsselt):\", p_reduced)\n"
   ],
   "metadata": {
    "collapsed": false,
    "ExecuteTime": {
     "end_time": "2025-05-05T18:52:01.489548Z",
     "start_time": "2025-05-05T18:52:01.485104Z"
    }
   },
   "id": "8e7fc4f000b8f0b3",
   "execution_count": 6
  },
  {
   "cell_type": "markdown",
   "source": [
    "# Aufgabe"
   ],
   "metadata": {
    "collapsed": false
   },
   "id": "f5e94daf240dca3b"
  },
  {
   "cell_type": "markdown",
   "source": [
    "# Aufgabe: Textverschlüsselung mit Polynomen in \\( \\mathbb{Z}_{3329}[x]/(x^n + 1) \\)\n",
    "\n",
    "## Ziel\n",
    "In dieser Aufgabe implementierst du eine vereinfachte Form von Verschlüsselung, wie sie z. B. im Post-Quantum-Kryptosystem **Kyber** vorkommt. Du wandelst Text in ein Polynom um, verschlüsselst ihn über Polynom-Arithmetik in einem Restklassenring und gewinnst die Nachricht zurück.\n",
    "\n",
    "---\n",
    "\n",
    "## Teilaufgaben\n",
    "\n",
    "### 1. Klartext vorbereiten\n",
    "- Wähle einen kurzen Text (z.B. `Hallo`, `Hi!`, `Test123`)\n",
    "- Wandle den Text in eine Liste von **ASCII-Zahlen** um\n",
    "  - Beispiel: `\"Hi!\" → [72, 105, 33]`\n",
    "\n",
    "### 2. Nachrichtspolynom erzeugen\n",
    "- Erzeuge aus der Zahlencodierung ein **Polynom**:\n",
    "  - $$\\( m(x) = a_0 + a_1x + a_2x^2 + \\dots \\)$$\n",
    "- Rechne im Ring $$\\( \\mathbb{Z}_{3329}[x]/(x^n + 1) \\)$$ mit z.B. $$\\( n = 8 \\)$$\n",
    "- Verwende `sympy.Poly(..., domain=GF(3329))`\n",
    "\n",
    "### 3. Schlüssel und Verschlüsselung\n",
    "- Definiere ein **öffentliches Polynom** $$\\( a(x) \\)$$, z.B. zufällig oder manuell mit Grad ≤ 3\n",
    "- Definiere ein **geheimes Polynom** $$\\( s(x) \\)$$\n",
    "- Optional: Erzeuge ein kleines „Rauschpolynom“ $$\\( e(x) \\)$$ (z.B. mit kleinen Zufallswerten)\n",
    "\n",
    "- **Verschlüssele** mit:\n",
    "$$\n",
    "  \\[\n",
    "  c(x) = a(x) \\cdot s(x) + m(x) + e(x)\n",
    "  \\]\n",
    "$$\n",
    "- **Reduziere das Ergebnis** modulo $$\\( x^n + 1 \\)$$, z. B. mit `sympy.div(...)`\n",
    "\n",
    "### 4.  Entschlüsselung\n",
    "- Berechne $$\\( \\hat{m}(x) = c(x) - a(x) \\cdot s(x) \\)$$\n",
    "- Reduziere erneut modulo $$\\( x^n + 1 \\)$$\n",
    "- Konvertiere die Koeffizienten von $$\\( \\hat{m}(x) \\)$$ zurück in Zeichen (`chr()`)\n",
    "\n",
    "---\n",
    "\n",
    "## Hinweise & Hilfsmittel\n",
    "\n",
    "- Du arbeitest über dem endlichen Körper  $$\\( \\mathbb{Z}_{3329} \\)$$  \n",
    "  → Verwende `GF(3329)` in `sympy.Poly(...)`\n",
    "- Reduktion modulo $$\\( x^n + 1 \\)$$:  \n",
    "  → `div(p, modulus)[1]` gibt dir den Rest (den reduzierten Teil)\n",
    "- `ord(c)` konvertiert Buchstaben zu ASCII, `chr(n)` zurück\n",
    "\n",
    "---\n",
    "\n",
    "## Bonus-Aufgaben (optional)\n",
    "\n",
    "- Implementiere eine kleine Funktion:\n",
    "  ```python\n",
    "  def encrypt(message: str, a, s, modulus, q=3329):\n",
    "      ..."
   ],
   "metadata": {
    "collapsed": false
   },
   "id": "f012529a3f0ee015"
  },
  {
   "cell_type": "code",
   "outputs": [],
   "source": [],
   "metadata": {
    "collapsed": false
   },
   "id": "bf5872114f46b5e2"
  }
 ],
 "metadata": {
  "kernelspec": {
   "display_name": "Python 3",
   "language": "python",
   "name": "python3"
  },
  "language_info": {
   "codemirror_mode": {
    "name": "ipython",
    "version": 2
   },
   "file_extension": ".py",
   "mimetype": "text/x-python",
   "name": "python",
   "nbconvert_exporter": "python",
   "pygments_lexer": "ipython2",
   "version": "2.7.6"
  }
 },
 "nbformat": 4,
 "nbformat_minor": 5
}
